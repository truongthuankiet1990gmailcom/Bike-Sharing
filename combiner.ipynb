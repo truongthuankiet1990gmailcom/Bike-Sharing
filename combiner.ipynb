{
 "cells": [
  {
   "cell_type": "code",
   "execution_count": 2,
   "id": "e10aa4b3",
   "metadata": {},
   "outputs": [],
   "source": [
    "import pandas as pd\n",
    "import numpy as np"
   ]
  },
  {
   "cell_type": "code",
   "execution_count": 4,
   "id": "67022b06",
   "metadata": {},
   "outputs": [
    {
     "name": "stdout",
     "output_type": "stream",
     "text": [
      "Successfully loaded 202401-divvy-tripdata.csv\n",
      "Successfully loaded 202402-divvy-tripdata.csv\n",
      "Successfully loaded 202403-divvy-tripdata.csv\n",
      "Successfully loaded 202404-divvy-tripdata.csv\n",
      "Successfully loaded 202405-divvy-tripdata.csv\n",
      "Successfully loaded 202406-divvy-tripdata.csv\n",
      "Successfully loaded 202407-divvy-tripdata.csv\n",
      "Successfully loaded 202408-divvy-tripdata.csv\n",
      "Successfully loaded 202409-divvy-tripdata.csv\n",
      "Successfully loaded 202410-divvy-tripdata.csv\n",
      "Successfully loaded 202411-divvy-tripdata.csv\n",
      "Successfully loaded 202412-divvy-tripdata.csv\n"
     ]
    }
   ],
   "source": [
    "# Merge all 202401 - 202412 files into a single DataFrame\n",
    "def merge_dataframes(file_list, date_column='started_at'):\n",
    "    \"\"\"\n",
    "    Merge multiple CSV files into a single DataFrame.\n",
    "    \n",
    "    Parameters:\n",
    "    file_list (list): List of CSV file paths\n",
    "    date_column (str): Name of the column to parse as dates\n",
    "    \n",
    "    Returns:\n",
    "    pandas.DataFrame: Merged DataFrame\n",
    "    \"\"\"\n",
    "    dataframes = []\n",
    "    for file in file_list:\n",
    "        try:\n",
    "            # Use the correct date column name\n",
    "            df = pd.read_csv(file, parse_dates=[date_column])\n",
    "            dataframes.append(df)\n",
    "            print(f\"Successfully loaded {file}\")\n",
    "        except FileNotFoundError:\n",
    "            print(f\"Warning: File {file} not found and will be skipped\")\n",
    "        except ValueError as e:\n",
    "            # If date column isn't found, load without parsing dates\n",
    "            print(f\"Warning: {e}. Loading {file} without parsing dates\")\n",
    "            df = pd.read_csv(file)\n",
    "            dataframes.append(df)\n",
    "    \n",
    "    if dataframes:\n",
    "        merged_df = pd.concat(dataframes, ignore_index=True)\n",
    "        return merged_df\n",
    "    else:\n",
    "        raise ValueError(\"No valid files were found to merge\")\n",
    "\n",
    "# Then call the function with the correct date column\n",
    "# merged_df = merge_dataframes(file_lists, date_column='started_at')\n",
    "\n",
    "file_lists = [ '202401-divvy-tripdata.csv',\n",
    "               '202402-divvy-tripdata.csv',\n",
    "               '202403-divvy-tripdata.csv',\n",
    "               '202404-divvy-tripdata.csv',\n",
    "               '202405-divvy-tripdata.csv',\n",
    "               '202406-divvy-tripdata.csv',\n",
    "               '202407-divvy-tripdata.csv',\n",
    "               '202408-divvy-tripdata.csv',\n",
    "               '202409-divvy-tripdata.csv',\n",
    "               '202410-divvy-tripdata.csv',\n",
    "               '202411-divvy-tripdata.csv',\n",
    "               '202412-divvy-tripdata.csv']\n",
    "# Merge the dataframes\n",
    "merged_df = merge_dataframes(file_lists)\n"
   ]
  },
  {
   "cell_type": "code",
   "execution_count": 5,
   "id": "97304efe",
   "metadata": {},
   "outputs": [
    {
     "data": {
      "text/plain": [
       "(5860568, 13)"
      ]
     },
     "execution_count": 5,
     "metadata": {},
     "output_type": "execute_result"
    }
   ],
   "source": [
    "merged_df.shape"
   ]
  },
  {
   "cell_type": "code",
   "execution_count": 7,
   "id": "da52be59",
   "metadata": {},
   "outputs": [],
   "source": [
    "# Export the merged DataFrame to a new excel file\n",
    "merged_df.to_csv('merged_divvy_tripdata_2024.csv', index=False)"
   ]
  }
 ],
 "metadata": {
  "kernelspec": {
   "display_name": "Python 3",
   "language": "python",
   "name": "python3"
  },
  "language_info": {
   "codemirror_mode": {
    "name": "ipython",
    "version": 3
   },
   "file_extension": ".py",
   "mimetype": "text/x-python",
   "name": "python",
   "nbconvert_exporter": "python",
   "pygments_lexer": "ipython3",
   "version": "3.13.2"
  }
 },
 "nbformat": 4,
 "nbformat_minor": 5
}
